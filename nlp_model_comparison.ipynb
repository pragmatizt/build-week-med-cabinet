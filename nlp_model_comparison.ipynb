{
  "nbformat": 4,
  "nbformat_minor": 0,
  "metadata": {
    "kernelspec": {
      "display_name": "RB-U4-S1-NLP (Python3)",
      "language": "python",
      "name": "rb-u4-s1-nlp"
    },
    "language_info": {
      "codemirror_mode": {
        "name": "ipython",
        "version": 3
      },
      "file_extension": ".py",
      "mimetype": "text/x-python",
      "name": "python",
      "nbconvert_exporter": "python",
      "pygments_lexer": "ipython3",
      "version": "3.7.3"
    },
    "colab": {
      "name": "nlp_model_comparison.ipynb",
      "provenance": [],
      "collapsed_sections": [],
      "include_colab_link": true
    }
  },
  "cells": [
    {
      "cell_type": "markdown",
      "metadata": {
        "id": "view-in-github",
        "colab_type": "text"
      },
      "source": [
        "<a href=\"https://colab.research.google.com/github/pragmatizt/build-week-med-cabinet/blob/master/nlp_model_comparison.ipynb\" target=\"_parent\"><img src=\"https://colab.research.google.com/assets/colab-badge.svg\" alt=\"Open In Colab\"/></a>"
      ]
    },
    {
      "cell_type": "code",
      "metadata": {
        "id": "tYwrMCDob235",
        "colab_type": "code",
        "outputId": "98c993e9-803f-4add-b01e-7d309ab3098f",
        "colab": {
          "base_uri": "https://localhost:8080/",
          "height": 90
        }
      },
      "source": [
        "!python -m spacy download en_core_web_md\n",
        "# https://stackoverflow.com/questions/56927602/unable-to-load-the-spacy-model-en-core-web-lg-on-google-colab"
      ],
      "execution_count": 1,
      "outputs": [
        {
          "output_type": "stream",
          "text": [
            "Requirement already satisfied: en_core_web_md==2.1.0 from https://github.com/explosion/spacy-models/releases/download/en_core_web_md-2.1.0/en_core_web_md-2.1.0.tar.gz#egg=en_core_web_md==2.1.0 in /usr/local/lib/python3.6/dist-packages (2.1.0)\n",
            "\u001b[38;5;2m✔ Download and installation successful\u001b[0m\n",
            "You can now load the model via spacy.load('en_core_web_md')\n"
          ],
          "name": "stdout"
        }
      ]
    },
    {
      "cell_type": "code",
      "metadata": {
        "id": "bRkIDk-NHelW",
        "colab_type": "code",
        "colab": {}
      },
      "source": [
        "# !pip install -U spacy[lookups]"
      ],
      "execution_count": 0,
      "outputs": []
    },
    {
      "cell_type": "code",
      "metadata": {
        "id": "58p9AOJxO4a4",
        "colab_type": "code",
        "colab": {}
      },
      "source": [
        "\n",
        "# Path and File Libraries\n",
        "import os\n",
        "import pickle\n",
        "\n",
        "# Data Transformation Libraries\n",
        "import pandas as pd\n",
        "import numpy as np\n",
        "import spacy\n",
        "\n",
        "from spacy.tokenizer import Tokenizer\n",
        "from sklearn.feature_extraction.text import TfidfVectorizer\n",
        "from sklearn.neighbors import NearestNeighbors\n",
        "\n",
        "# joblib\n",
        "# from sklearn.externals import joblib\n",
        "# from joblib import dump, load\n"
      ],
      "execution_count": 0,
      "outputs": []
    },
    {
      "cell_type": "code",
      "metadata": {
        "id": "-tGJt2j0ErQM",
        "colab_type": "code",
        "colab": {}
      },
      "source": [
        "# from spacy.lemmatizer import Lemmatizer"
      ],
      "execution_count": 0,
      "outputs": []
    },
    {
      "cell_type": "markdown",
      "metadata": {
        "id": "IGa8wWd5O4bc",
        "colab_type": "text"
      },
      "source": [
        "## load data"
      ]
    },
    {
      "cell_type": "code",
      "metadata": {
        "id": "3lSxubFmO4bh",
        "colab_type": "code",
        "colab": {}
      },
      "source": [
        "url= 'df_merged.csv'\n",
        "df = pd.read_csv(url)"
      ],
      "execution_count": 0,
      "outputs": []
    },
    {
      "cell_type": "code",
      "metadata": {
        "id": "VNOfFg2OO4bs",
        "colab_type": "code",
        "outputId": "ce0e9c13-a62f-433b-db2e-13b7e3541243",
        "colab": {
          "base_uri": "https://localhost:8080/",
          "height": 284
        }
      },
      "source": [
        "df.head()"
      ],
      "execution_count": 6,
      "outputs": [
        {
          "output_type": "execute_result",
          "data": {
            "text/html": [
              "<div>\n",
              "<style scoped>\n",
              "    .dataframe tbody tr th:only-of-type {\n",
              "        vertical-align: middle;\n",
              "    }\n",
              "\n",
              "    .dataframe tbody tr th {\n",
              "        vertical-align: top;\n",
              "    }\n",
              "\n",
              "    .dataframe thead th {\n",
              "        text-align: right;\n",
              "    }\n",
              "</style>\n",
              "<table border=\"1\" class=\"dataframe\">\n",
              "  <thead>\n",
              "    <tr style=\"text-align: right;\">\n",
              "      <th></th>\n",
              "      <th>Strain</th>\n",
              "      <th>Type</th>\n",
              "      <th>Rating</th>\n",
              "      <th>Description</th>\n",
              "      <th>flavors</th>\n",
              "      <th>positive</th>\n",
              "      <th>negative</th>\n",
              "      <th>medical</th>\n",
              "    </tr>\n",
              "  </thead>\n",
              "  <tbody>\n",
              "    <tr>\n",
              "      <th>0</th>\n",
              "      <td>Afpak</td>\n",
              "      <td>hybrid</td>\n",
              "      <td>4.2</td>\n",
              "      <td>Afpak, named for its direct Afghani and Pakist...</td>\n",
              "      <td>['Earthy', 'Chemical', 'Pine', 'Spicy/Herbal']</td>\n",
              "      <td>['Relaxed', 'Hungry', 'Happy', 'Sleepy', 'Crea...</td>\n",
              "      <td>['Dizzy']</td>\n",
              "      <td>['Depression', 'Insomnia', 'Pain', 'Stress', '...</td>\n",
              "    </tr>\n",
              "    <tr>\n",
              "      <th>1</th>\n",
              "      <td>African</td>\n",
              "      <td>sativa</td>\n",
              "      <td>3.9</td>\n",
              "      <td>African refers to the indigenous varieties of ...</td>\n",
              "      <td>['Spicy/Herbal', 'Pungent', 'Earthy', 'Pepper']</td>\n",
              "      <td>['Euphoric', 'Happy', 'Creative', 'Energetic',...</td>\n",
              "      <td>['Dry Mouth']</td>\n",
              "      <td>['Depression', 'Pain', 'Stress', 'Lack of Appe...</td>\n",
              "    </tr>\n",
              "    <tr>\n",
              "      <th>2</th>\n",
              "      <td>Afternoon Delight</td>\n",
              "      <td>hybrid</td>\n",
              "      <td>4.8</td>\n",
              "      <td>Afternoon Delight, created by Colorado Seed In...</td>\n",
              "      <td>['Pepper', 'Flowery', 'Pine', 'Pungent', 'Citr...</td>\n",
              "      <td>['Relaxed', 'Hungry', 'Euphoric', 'Uplifted', ...</td>\n",
              "      <td>['Dizzy', 'Dry Mouth', 'Paranoid']</td>\n",
              "      <td>['Depression', 'Insomnia', 'Pain', 'Stress', '...</td>\n",
              "    </tr>\n",
              "    <tr>\n",
              "      <th>3</th>\n",
              "      <td>Afwreck</td>\n",
              "      <td>hybrid</td>\n",
              "      <td>4.2</td>\n",
              "      <td>Afwreck is a hybrid cross of Afghani and Train...</td>\n",
              "      <td>['Pine', 'Earthy', 'Flowery', 'Pungent']</td>\n",
              "      <td>['Relaxed', 'Happy', 'Creative', 'Uplifted', '...</td>\n",
              "      <td>['Dizzy', 'Dry Mouth', 'Paranoid', 'Dry Eyes']</td>\n",
              "      <td>['Pain', 'Stress', 'Headache', 'Fatigue', 'Hea...</td>\n",
              "    </tr>\n",
              "    <tr>\n",
              "      <th>4</th>\n",
              "      <td>Agent Orange</td>\n",
              "      <td>hybrid</td>\n",
              "      <td>4.2</td>\n",
              "      <td>Don’t let the name scare you! The only herbici...</td>\n",
              "      <td>['Citrus', 'Orange', 'Sweet', 'Earthy']</td>\n",
              "      <td>['Relaxed', 'Euphoric', 'Happy', 'Energetic', ...</td>\n",
              "      <td>['Dizzy', 'Dry Mouth', 'Paranoid', 'Dry Eyes']</td>\n",
              "      <td>['Depression', 'Pain', 'Stress', 'Nausea', 'He...</td>\n",
              "    </tr>\n",
              "  </tbody>\n",
              "</table>\n",
              "</div>"
            ],
            "text/plain": [
              "              Strain  ...                                            medical\n",
              "0              Afpak  ...  ['Depression', 'Insomnia', 'Pain', 'Stress', '...\n",
              "1            African  ...  ['Depression', 'Pain', 'Stress', 'Lack of Appe...\n",
              "2  Afternoon Delight  ...  ['Depression', 'Insomnia', 'Pain', 'Stress', '...\n",
              "3            Afwreck  ...  ['Pain', 'Stress', 'Headache', 'Fatigue', 'Hea...\n",
              "4       Agent Orange  ...  ['Depression', 'Pain', 'Stress', 'Nausea', 'He...\n",
              "\n",
              "[5 rows x 8 columns]"
            ]
          },
          "metadata": {
            "tags": []
          },
          "execution_count": 6
        }
      ]
    },
    {
      "cell_type": "code",
      "metadata": {
        "id": "33ZDtMq6if7j",
        "colab_type": "code",
        "colab": {}
      },
      "source": [
        "# df['combined_text'] = df.Strain + ' ' + df.Type + ' ' + df.flavors + ' ' + df.Description + ' ' + df.positive + ' ' +    df.negative + ' ' + df.medical\n"
      ],
      "execution_count": 0,
      "outputs": []
    },
    {
      "cell_type": "code",
      "metadata": {
        "id": "Xteby83kO4cG",
        "colab_type": "code",
        "colab": {}
      },
      "source": [
        "df['combined_text'] = df.Strain + ' ' + df.Type + ' ' + df.flavors + ' ' + df.Description + ' ' + df.positive + ' ' +    df.negative + ' ' + df.medical\n",
        "# Removing punctuations from our string\n",
        "df[\"combined_text\"] = df['combined_text'].str.replace('[^\\w\\s]',' ')\n",
        "        \n",
        "# Creating an index\n",
        "df.reset_index(level=0, inplace=True)\n",
        "        \n",
        "for desc in df['combined_text']:\n",
        "    if desc == 'None':\n",
        "       desc = np.nan\n",
        "        \n",
        "df = df.dropna()"
      ],
      "execution_count": 0,
      "outputs": []
    },
    {
      "cell_type": "code",
      "metadata": {
        "id": "ZA9HCEYpO4cP",
        "colab_type": "code",
        "outputId": "4eddac66-14fd-4046-8cd8-e6cb635b95a6",
        "colab": {
          "base_uri": "https://localhost:8080/",
          "height": 34
        }
      },
      "source": [
        "df.shape"
      ],
      "execution_count": 8,
      "outputs": [
        {
          "output_type": "execute_result",
          "data": {
            "text/plain": [
              "(1473, 10)"
            ]
          },
          "metadata": {
            "tags": []
          },
          "execution_count": 8
        }
      ]
    },
    {
      "cell_type": "code",
      "metadata": {
        "id": "UWpO4HmcO4ca",
        "colab_type": "code",
        "outputId": "e2508c9c-d180-4886-fb22-42f560e71a28",
        "colab": {
          "base_uri": "https://localhost:8080/",
          "height": 122
        }
      },
      "source": [
        "df['combined_text'].head()"
      ],
      "execution_count": 9,
      "outputs": [
        {
          "output_type": "execute_result",
          "data": {
            "text/plain": [
              "0    Afpak hybrid   Earthy    Chemical    Pine    S...\n",
              "1    African sativa   Spicy Herbal    Pungent    Ea...\n",
              "2    Afternoon Delight hybrid   Pepper    Flowery  ...\n",
              "3    Afwreck hybrid   Pine    Earthy    Flowery    ...\n",
              "4    Agent Orange hybrid   Citrus    Orange    Swee...\n",
              "Name: combined_text, dtype: object"
            ]
          },
          "metadata": {
            "tags": []
          },
          "execution_count": 9
        }
      ]
    },
    {
      "cell_type": "markdown",
      "metadata": {
        "id": "0vu7eBNMO4ck",
        "colab_type": "text"
      },
      "source": [
        "## split data as features and target"
      ]
    },
    {
      "cell_type": "code",
      "metadata": {
        "id": "b3eLRVetO4co",
        "colab_type": "code",
        "colab": {}
      },
      "source": [
        "# We set our features as description, and target as strain.  \n",
        "# Create a mass text.\n",
        "\n",
        "features = ['combined_text'] # expanding the features medical + flavors\n",
        "target = 'Strain'\n",
        "\n",
        "X = df[features]\n",
        "y = df[[target]]"
      ],
      "execution_count": 0,
      "outputs": []
    },
    {
      "cell_type": "code",
      "metadata": {
        "id": "DDMT1e2BO4cx",
        "colab_type": "code",
        "colab": {}
      },
      "source": [
        "#Create the nlp object\n",
        "nlp = spacy.load(\"en_core_web_md\")\n",
        "\n",
        "# create tokenizer object\n",
        "tokenizer = Tokenizer(nlp.vocab)"
      ],
      "execution_count": 0,
      "outputs": []
    },
    {
      "cell_type": "code",
      "metadata": {
        "id": "e9T40hSjO4db",
        "colab_type": "code",
        "colab": {}
      },
      "source": [
        "def tokenize(doc):\n",
        "        \"\"\"Return the tokens\"\"\"\n",
        "        return [token.text for token in tokenizer(doc)]"
      ],
      "execution_count": 0,
      "outputs": []
    },
    {
      "cell_type": "code",
      "metadata": {
        "id": "UFxTvR7dO4do",
        "colab_type": "code",
        "colab": {}
      },
      "source": [
        "def get_lemmas(text):\n",
        "        \"\"\"Return the Lemmas\"\"\"\n",
        "        lemmas = []\n",
        "        doc = nlp(text)\n",
        "    \n",
        "        for token in doc: \n",
        "            if ((token.is_stop == False) and (token.is_punct == False)) and (token.pos_!= 'PRON'):\n",
        "                lemmas.append(token.lemma_)\n",
        "    \n",
        "        return lemmas\n",
        "    "
      ],
      "execution_count": 0,
      "outputs": []
    },
    {
      "cell_type": "markdown",
      "metadata": {
        "id": "Vs_r1VHvO4dx",
        "colab_type": "text"
      },
      "source": [
        "## transform and fit"
      ]
    },
    {
      "cell_type": "code",
      "metadata": {
        "id": "MRviROneO4d2",
        "colab_type": "code",
        "colab": {}
      },
      "source": [
        "text = df[\"combined_text\"]\n",
        "\n",
        "# Instantiate vectorizer object\n",
        "tfidf = TfidfVectorizer(tokenizer=get_lemmas, min_df=0.025, max_df=.98, ngram_range=(1,2))\n",
        "\n",
        "# Create a vocabulary and get word counts per document\n",
        "dtm = tfidf.fit_transform(text) # Similiar to fit_predict\n",
        "\n",
        "# Get feature names to use as dataframe column headers\n",
        "dtm = pd.DataFrame(dtm.todense(), columns=tfidf.get_feature_names())"
      ],
      "execution_count": 0,
      "outputs": []
    },
    {
      "cell_type": "code",
      "metadata": {
        "id": "p2xyhFdWO4eA",
        "colab_type": "code",
        "outputId": "e6c5d85b-defb-4c94-dbce-a7f67fbf7fd6",
        "colab": {
          "base_uri": "https://localhost:8080/",
          "height": 283
        }
      },
      "source": [
        "# View Feature Matrix as DataFrame\n",
        "print(dtm.shape)\n",
        "dtm.head()"
      ],
      "execution_count": 15,
      "outputs": [
        {
          "output_type": "stream",
          "text": [
            "(1473, 662)\n"
          ],
          "name": "stdout"
        },
        {
          "output_type": "execute_result",
          "data": {
            "text/html": [
              "<div>\n",
              "<style scoped>\n",
              "    .dataframe tbody tr th:only-of-type {\n",
              "        vertical-align: middle;\n",
              "    }\n",
              "\n",
              "    .dataframe tbody tr th {\n",
              "        vertical-align: top;\n",
              "    }\n",
              "\n",
              "    .dataframe thead th {\n",
              "        text-align: right;\n",
              "    }\n",
              "</style>\n",
              "<table border=\"1\" class=\"dataframe\">\n",
              "  <thead>\n",
              "    <tr style=\"text-align: right;\">\n",
              "      <th></th>\n",
              "      <th></th>\n",
              "      <th></th>\n",
              "      <th></th>\n",
              "      <th>depression</th>\n",
              "      <th>depression</th>\n",
              "      <th>dizzy</th>\n",
              "      <th>dry</th>\n",
              "      <th>insomnia</th>\n",
              "      <th>pain</th>\n",
              "      <th>anxious</th>\n",
              "      <th>arouse</th>\n",
              "      <th>berry</th>\n",
              "      <th>blueberry</th>\n",
              "      <th>citrus</th>\n",
              "      <th>cramp</th>\n",
              "      <th>creative</th>\n",
              "      <th>diesel</th>\n",
              "      <th>dry</th>\n",
              "      <th>earthy</th>\n",
              "      <th>energetic</th>\n",
              "      <th>euphoric</th>\n",
              "      <th>eye</th>\n",
              "      <th>fatigue</th>\n",
              "      <th>flowery</th>\n",
              "      <th>focus</th>\n",
              "      <th>giggly</th>\n",
              "      <th>grape</th>\n",
              "      <th>happy</th>\n",
              "      <th>headache</th>\n",
              "      <th>hungry</th>\n",
              "      <th>inflammation</th>\n",
              "      <th>insomnia</th>\n",
              "      <th>lack</th>\n",
              "      <th>lemon</th>\n",
              "      <th>lime</th>\n",
              "      <th>muscle</th>\n",
              "      <th>nausea</th>\n",
              "      <th>orange</th>\n",
              "      <th>pain</th>\n",
              "      <th>paranoid</th>\n",
              "      <th>...</th>\n",
              "      <th>tingly</th>\n",
              "      <th>trainwreck</th>\n",
              "      <th>treat</th>\n",
              "      <th>trichome</th>\n",
              "      <th>trichome</th>\n",
              "      <th>tropical</th>\n",
              "      <th>tropical</th>\n",
              "      <th>tropical</th>\n",
              "      <th>true</th>\n",
              "      <th>typically</th>\n",
              "      <th>undertone</th>\n",
              "      <th>unique</th>\n",
              "      <th>uplift</th>\n",
              "      <th>uplift</th>\n",
              "      <th>uplift</th>\n",
              "      <th>uplift</th>\n",
              "      <th>uplifted</th>\n",
              "      <th>uplifted</th>\n",
              "      <th>uplifting</th>\n",
              "      <th>uplifting</th>\n",
              "      <th>use</th>\n",
              "      <th>user</th>\n",
              "      <th>vanilla</th>\n",
              "      <th>variety</th>\n",
              "      <th>way</th>\n",
              "      <th>week</th>\n",
              "      <th>week</th>\n",
              "      <th>white</th>\n",
              "      <th>white widow</th>\n",
              "      <th>widow</th>\n",
              "      <th>win</th>\n",
              "      <th>woody</th>\n",
              "      <th>woody</th>\n",
              "      <th>woody</th>\n",
              "      <th>x</th>\n",
              "      <th>yield</th>\n",
              "      <th>yield</th>\n",
              "      <th></th>\n",
              "      <th>euphoric</th>\n",
              "      <th>relaxed</th>\n",
              "    </tr>\n",
              "  </thead>\n",
              "  <tbody>\n",
              "    <tr>\n",
              "      <th>0</th>\n",
              "      <td>0.087507</td>\n",
              "      <td>0.0</td>\n",
              "      <td>0.0</td>\n",
              "      <td>0.0</td>\n",
              "      <td>0.051307</td>\n",
              "      <td>0.067999</td>\n",
              "      <td>0.000000</td>\n",
              "      <td>0.0</td>\n",
              "      <td>0.000000</td>\n",
              "      <td>0.0</td>\n",
              "      <td>0.000000</td>\n",
              "      <td>0.0</td>\n",
              "      <td>0.0</td>\n",
              "      <td>0.000000</td>\n",
              "      <td>0.000000</td>\n",
              "      <td>0.063124</td>\n",
              "      <td>0.0</td>\n",
              "      <td>0.000000</td>\n",
              "      <td>0.000000</td>\n",
              "      <td>0.000000</td>\n",
              "      <td>0.000000</td>\n",
              "      <td>0.0</td>\n",
              "      <td>0.000000</td>\n",
              "      <td>0.000000</td>\n",
              "      <td>0.074108</td>\n",
              "      <td>0.0</td>\n",
              "      <td>0.0</td>\n",
              "      <td>0.040189</td>\n",
              "      <td>0.000000</td>\n",
              "      <td>0.083002</td>\n",
              "      <td>0.0</td>\n",
              "      <td>0.076247</td>\n",
              "      <td>0.074316</td>\n",
              "      <td>0.0</td>\n",
              "      <td>0.0</td>\n",
              "      <td>0.000000</td>\n",
              "      <td>0.000000</td>\n",
              "      <td>0.000000</td>\n",
              "      <td>0.049179</td>\n",
              "      <td>0.000000</td>\n",
              "      <td>...</td>\n",
              "      <td>0.000000</td>\n",
              "      <td>0.000000</td>\n",
              "      <td>0.0</td>\n",
              "      <td>0.0</td>\n",
              "      <td>0.0</td>\n",
              "      <td>0.000000</td>\n",
              "      <td>0.00000</td>\n",
              "      <td>0.0</td>\n",
              "      <td>0.0</td>\n",
              "      <td>0.0</td>\n",
              "      <td>0.0</td>\n",
              "      <td>0.0</td>\n",
              "      <td>0.000000</td>\n",
              "      <td>0.000000</td>\n",
              "      <td>0.000000</td>\n",
              "      <td>0.0</td>\n",
              "      <td>0.0</td>\n",
              "      <td>0.0</td>\n",
              "      <td>0.000000</td>\n",
              "      <td>0.0</td>\n",
              "      <td>0.0</td>\n",
              "      <td>0.0</td>\n",
              "      <td>0.0</td>\n",
              "      <td>0.000000</td>\n",
              "      <td>0.0</td>\n",
              "      <td>0.0</td>\n",
              "      <td>0.0</td>\n",
              "      <td>0.0</td>\n",
              "      <td>0.0</td>\n",
              "      <td>0.0</td>\n",
              "      <td>0.0</td>\n",
              "      <td>0.0</td>\n",
              "      <td>0.0</td>\n",
              "      <td>0.0</td>\n",
              "      <td>0.0</td>\n",
              "      <td>0.0</td>\n",
              "      <td>0.0</td>\n",
              "      <td>0.00000</td>\n",
              "      <td>0.0</td>\n",
              "      <td>0.000000</td>\n",
              "    </tr>\n",
              "    <tr>\n",
              "      <th>1</th>\n",
              "      <td>0.151828</td>\n",
              "      <td>0.0</td>\n",
              "      <td>0.0</td>\n",
              "      <td>0.0</td>\n",
              "      <td>0.059346</td>\n",
              "      <td>0.000000</td>\n",
              "      <td>0.084848</td>\n",
              "      <td>0.0</td>\n",
              "      <td>0.000000</td>\n",
              "      <td>0.0</td>\n",
              "      <td>0.135955</td>\n",
              "      <td>0.0</td>\n",
              "      <td>0.0</td>\n",
              "      <td>0.000000</td>\n",
              "      <td>0.000000</td>\n",
              "      <td>0.073015</td>\n",
              "      <td>0.0</td>\n",
              "      <td>0.000000</td>\n",
              "      <td>0.083382</td>\n",
              "      <td>0.082855</td>\n",
              "      <td>0.052612</td>\n",
              "      <td>0.0</td>\n",
              "      <td>0.000000</td>\n",
              "      <td>0.000000</td>\n",
              "      <td>0.000000</td>\n",
              "      <td>0.0</td>\n",
              "      <td>0.0</td>\n",
              "      <td>0.046486</td>\n",
              "      <td>0.070092</td>\n",
              "      <td>0.000000</td>\n",
              "      <td>0.0</td>\n",
              "      <td>0.000000</td>\n",
              "      <td>0.085961</td>\n",
              "      <td>0.0</td>\n",
              "      <td>0.0</td>\n",
              "      <td>0.000000</td>\n",
              "      <td>0.108244</td>\n",
              "      <td>0.000000</td>\n",
              "      <td>0.056886</td>\n",
              "      <td>0.000000</td>\n",
              "      <td>...</td>\n",
              "      <td>0.161027</td>\n",
              "      <td>0.000000</td>\n",
              "      <td>0.0</td>\n",
              "      <td>0.0</td>\n",
              "      <td>0.0</td>\n",
              "      <td>0.000000</td>\n",
              "      <td>0.00000</td>\n",
              "      <td>0.0</td>\n",
              "      <td>0.0</td>\n",
              "      <td>0.0</td>\n",
              "      <td>0.0</td>\n",
              "      <td>0.0</td>\n",
              "      <td>0.000000</td>\n",
              "      <td>0.000000</td>\n",
              "      <td>0.000000</td>\n",
              "      <td>0.0</td>\n",
              "      <td>0.0</td>\n",
              "      <td>0.0</td>\n",
              "      <td>0.000000</td>\n",
              "      <td>0.0</td>\n",
              "      <td>0.0</td>\n",
              "      <td>0.0</td>\n",
              "      <td>0.0</td>\n",
              "      <td>0.154848</td>\n",
              "      <td>0.0</td>\n",
              "      <td>0.0</td>\n",
              "      <td>0.0</td>\n",
              "      <td>0.0</td>\n",
              "      <td>0.0</td>\n",
              "      <td>0.0</td>\n",
              "      <td>0.0</td>\n",
              "      <td>0.0</td>\n",
              "      <td>0.0</td>\n",
              "      <td>0.0</td>\n",
              "      <td>0.0</td>\n",
              "      <td>0.0</td>\n",
              "      <td>0.0</td>\n",
              "      <td>0.00000</td>\n",
              "      <td>0.0</td>\n",
              "      <td>0.000000</td>\n",
              "    </tr>\n",
              "    <tr>\n",
              "      <th>2</th>\n",
              "      <td>0.091030</td>\n",
              "      <td>0.0</td>\n",
              "      <td>0.0</td>\n",
              "      <td>0.0</td>\n",
              "      <td>0.053373</td>\n",
              "      <td>0.070737</td>\n",
              "      <td>0.000000</td>\n",
              "      <td>0.0</td>\n",
              "      <td>0.000000</td>\n",
              "      <td>0.0</td>\n",
              "      <td>0.000000</td>\n",
              "      <td>0.0</td>\n",
              "      <td>0.0</td>\n",
              "      <td>0.097718</td>\n",
              "      <td>0.136761</td>\n",
              "      <td>0.065665</td>\n",
              "      <td>0.0</td>\n",
              "      <td>0.057231</td>\n",
              "      <td>0.000000</td>\n",
              "      <td>0.000000</td>\n",
              "      <td>0.047316</td>\n",
              "      <td>0.0</td>\n",
              "      <td>0.000000</td>\n",
              "      <td>0.109708</td>\n",
              "      <td>0.000000</td>\n",
              "      <td>0.0</td>\n",
              "      <td>0.0</td>\n",
              "      <td>0.000000</td>\n",
              "      <td>0.063037</td>\n",
              "      <td>0.086344</td>\n",
              "      <td>0.0</td>\n",
              "      <td>0.079317</td>\n",
              "      <td>0.000000</td>\n",
              "      <td>0.0</td>\n",
              "      <td>0.0</td>\n",
              "      <td>0.000000</td>\n",
              "      <td>0.000000</td>\n",
              "      <td>0.000000</td>\n",
              "      <td>0.051160</td>\n",
              "      <td>0.075956</td>\n",
              "      <td>...</td>\n",
              "      <td>0.000000</td>\n",
              "      <td>0.000000</td>\n",
              "      <td>0.0</td>\n",
              "      <td>0.0</td>\n",
              "      <td>0.0</td>\n",
              "      <td>0.115572</td>\n",
              "      <td>0.15857</td>\n",
              "      <td>0.0</td>\n",
              "      <td>0.0</td>\n",
              "      <td>0.0</td>\n",
              "      <td>0.0</td>\n",
              "      <td>0.0</td>\n",
              "      <td>0.055111</td>\n",
              "      <td>0.068088</td>\n",
              "      <td>0.000000</td>\n",
              "      <td>0.0</td>\n",
              "      <td>0.0</td>\n",
              "      <td>0.0</td>\n",
              "      <td>0.000000</td>\n",
              "      <td>0.0</td>\n",
              "      <td>0.0</td>\n",
              "      <td>0.0</td>\n",
              "      <td>0.0</td>\n",
              "      <td>0.000000</td>\n",
              "      <td>0.0</td>\n",
              "      <td>0.0</td>\n",
              "      <td>0.0</td>\n",
              "      <td>0.0</td>\n",
              "      <td>0.0</td>\n",
              "      <td>0.0</td>\n",
              "      <td>0.0</td>\n",
              "      <td>0.0</td>\n",
              "      <td>0.0</td>\n",
              "      <td>0.0</td>\n",
              "      <td>0.0</td>\n",
              "      <td>0.0</td>\n",
              "      <td>0.0</td>\n",
              "      <td>0.10122</td>\n",
              "      <td>0.0</td>\n",
              "      <td>0.112527</td>\n",
              "    </tr>\n",
              "    <tr>\n",
              "      <th>3</th>\n",
              "      <td>0.113814</td>\n",
              "      <td>0.0</td>\n",
              "      <td>0.0</td>\n",
              "      <td>0.0</td>\n",
              "      <td>0.000000</td>\n",
              "      <td>0.088442</td>\n",
              "      <td>0.000000</td>\n",
              "      <td>0.0</td>\n",
              "      <td>0.193866</td>\n",
              "      <td>0.0</td>\n",
              "      <td>0.000000</td>\n",
              "      <td>0.0</td>\n",
              "      <td>0.0</td>\n",
              "      <td>0.000000</td>\n",
              "      <td>0.000000</td>\n",
              "      <td>0.082101</td>\n",
              "      <td>0.0</td>\n",
              "      <td>0.143110</td>\n",
              "      <td>0.093759</td>\n",
              "      <td>0.000000</td>\n",
              "      <td>0.059159</td>\n",
              "      <td>0.0</td>\n",
              "      <td>0.096658</td>\n",
              "      <td>0.137168</td>\n",
              "      <td>0.000000</td>\n",
              "      <td>0.0</td>\n",
              "      <td>0.0</td>\n",
              "      <td>0.052271</td>\n",
              "      <td>0.157630</td>\n",
              "      <td>0.000000</td>\n",
              "      <td>0.0</td>\n",
              "      <td>0.000000</td>\n",
              "      <td>0.000000</td>\n",
              "      <td>0.0</td>\n",
              "      <td>0.0</td>\n",
              "      <td>0.129715</td>\n",
              "      <td>0.000000</td>\n",
              "      <td>0.000000</td>\n",
              "      <td>0.000000</td>\n",
              "      <td>0.094967</td>\n",
              "      <td>...</td>\n",
              "      <td>0.000000</td>\n",
              "      <td>0.215663</td>\n",
              "      <td>0.0</td>\n",
              "      <td>0.0</td>\n",
              "      <td>0.0</td>\n",
              "      <td>0.000000</td>\n",
              "      <td>0.00000</td>\n",
              "      <td>0.0</td>\n",
              "      <td>0.0</td>\n",
              "      <td>0.0</td>\n",
              "      <td>0.0</td>\n",
              "      <td>0.0</td>\n",
              "      <td>0.068905</td>\n",
              "      <td>0.085130</td>\n",
              "      <td>0.000000</td>\n",
              "      <td>0.0</td>\n",
              "      <td>0.0</td>\n",
              "      <td>0.0</td>\n",
              "      <td>0.000000</td>\n",
              "      <td>0.0</td>\n",
              "      <td>0.0</td>\n",
              "      <td>0.0</td>\n",
              "      <td>0.0</td>\n",
              "      <td>0.000000</td>\n",
              "      <td>0.0</td>\n",
              "      <td>0.0</td>\n",
              "      <td>0.0</td>\n",
              "      <td>0.0</td>\n",
              "      <td>0.0</td>\n",
              "      <td>0.0</td>\n",
              "      <td>0.0</td>\n",
              "      <td>0.0</td>\n",
              "      <td>0.0</td>\n",
              "      <td>0.0</td>\n",
              "      <td>0.0</td>\n",
              "      <td>0.0</td>\n",
              "      <td>0.0</td>\n",
              "      <td>0.00000</td>\n",
              "      <td>0.0</td>\n",
              "      <td>0.000000</td>\n",
              "    </tr>\n",
              "    <tr>\n",
              "      <th>4</th>\n",
              "      <td>0.076108</td>\n",
              "      <td>0.0</td>\n",
              "      <td>0.0</td>\n",
              "      <td>0.0</td>\n",
              "      <td>0.044624</td>\n",
              "      <td>0.059142</td>\n",
              "      <td>0.000000</td>\n",
              "      <td>0.0</td>\n",
              "      <td>0.000000</td>\n",
              "      <td>0.0</td>\n",
              "      <td>0.000000</td>\n",
              "      <td>0.0</td>\n",
              "      <td>0.0</td>\n",
              "      <td>0.000000</td>\n",
              "      <td>0.000000</td>\n",
              "      <td>0.000000</td>\n",
              "      <td>0.0</td>\n",
              "      <td>0.095698</td>\n",
              "      <td>0.062697</td>\n",
              "      <td>0.062301</td>\n",
              "      <td>0.039560</td>\n",
              "      <td>0.0</td>\n",
              "      <td>0.000000</td>\n",
              "      <td>0.000000</td>\n",
              "      <td>0.000000</td>\n",
              "      <td>0.0</td>\n",
              "      <td>0.0</td>\n",
              "      <td>0.034954</td>\n",
              "      <td>0.105408</td>\n",
              "      <td>0.000000</td>\n",
              "      <td>0.0</td>\n",
              "      <td>0.000000</td>\n",
              "      <td>0.000000</td>\n",
              "      <td>0.0</td>\n",
              "      <td>0.0</td>\n",
              "      <td>0.000000</td>\n",
              "      <td>0.081391</td>\n",
              "      <td>0.139418</td>\n",
              "      <td>0.042773</td>\n",
              "      <td>0.063505</td>\n",
              "      <td>...</td>\n",
              "      <td>0.000000</td>\n",
              "      <td>0.000000</td>\n",
              "      <td>0.0</td>\n",
              "      <td>0.0</td>\n",
              "      <td>0.0</td>\n",
              "      <td>0.000000</td>\n",
              "      <td>0.00000</td>\n",
              "      <td>0.0</td>\n",
              "      <td>0.0</td>\n",
              "      <td>0.0</td>\n",
              "      <td>0.0</td>\n",
              "      <td>0.0</td>\n",
              "      <td>0.046077</td>\n",
              "      <td>0.000000</td>\n",
              "      <td>0.093177</td>\n",
              "      <td>0.0</td>\n",
              "      <td>0.0</td>\n",
              "      <td>0.0</td>\n",
              "      <td>0.187858</td>\n",
              "      <td>0.0</td>\n",
              "      <td>0.0</td>\n",
              "      <td>0.0</td>\n",
              "      <td>0.0</td>\n",
              "      <td>0.000000</td>\n",
              "      <td>0.0</td>\n",
              "      <td>0.0</td>\n",
              "      <td>0.0</td>\n",
              "      <td>0.0</td>\n",
              "      <td>0.0</td>\n",
              "      <td>0.0</td>\n",
              "      <td>0.0</td>\n",
              "      <td>0.0</td>\n",
              "      <td>0.0</td>\n",
              "      <td>0.0</td>\n",
              "      <td>0.0</td>\n",
              "      <td>0.0</td>\n",
              "      <td>0.0</td>\n",
              "      <td>0.00000</td>\n",
              "      <td>0.0</td>\n",
              "      <td>0.000000</td>\n",
              "    </tr>\n",
              "  </tbody>\n",
              "</table>\n",
              "<p>5 rows × 662 columns</p>\n",
              "</div>"
            ],
            "text/plain": [
              "                             ...                euphoric       relaxed\n",
              "0  0.087507    0.0      0.0  ...  0.00000            0.0      0.000000\n",
              "1  0.151828    0.0      0.0  ...  0.00000            0.0      0.000000\n",
              "2  0.091030    0.0      0.0  ...  0.10122            0.0      0.112527\n",
              "3  0.113814    0.0      0.0  ...  0.00000            0.0      0.000000\n",
              "4  0.076108    0.0      0.0  ...  0.00000            0.0      0.000000\n",
              "\n",
              "[5 rows x 662 columns]"
            ]
          },
          "metadata": {
            "tags": []
          },
          "execution_count": 15
        }
      ]
    },
    {
      "cell_type": "code",
      "metadata": {
        "id": "QPy36_frO4eK",
        "colab_type": "code",
        "outputId": "0b93e4aa-3195-415d-b1b7-5979be365922",
        "colab": {
          "base_uri": "https://localhost:8080/",
          "height": 70
        }
      },
      "source": [
        "# Fit on TF-IDF Vectors\n",
        "size = 5\n",
        "nn_ball_tree  = NearestNeighbors(n_neighbors=size, algorithm='ball_tree') # We use the ball_tree algorithm here. \n",
        "nn_ball_tree.fit(dtm)"
      ],
      "execution_count": 16,
      "outputs": [
        {
          "output_type": "execute_result",
          "data": {
            "text/plain": [
              "NearestNeighbors(algorithm='ball_tree', leaf_size=30, metric='minkowski',\n",
              "                 metric_params=None, n_jobs=None, n_neighbors=5, p=2,\n",
              "                 radius=1.0)"
            ]
          },
          "metadata": {
            "tags": []
          },
          "execution_count": 16
        }
      ]
    },
    {
      "cell_type": "code",
      "metadata": {
        "id": "Iz7zL7mvO4ea",
        "colab_type": "code",
        "colab": {}
      },
      "source": [
        "user_input = [\"\"\"A sweet, citrusy flavor that is euphoric\"\"\"]\n",
        "\n",
        "vec_user_input = tfidf.transform(user_input)\n",
        "dist, strain_index = nn_ball_tree.kneighbors(vec_user_input.todense())"
      ],
      "execution_count": 0,
      "outputs": []
    },
    {
      "cell_type": "code",
      "metadata": {
        "id": "vSNTem_SO4ek",
        "colab_type": "code",
        "outputId": "28192dc5-cacf-44f0-8a11-339671ed8732",
        "colab": {
          "base_uri": "https://localhost:8080/",
          "height": 34
        }
      },
      "source": [
        "print(strain_index)"
      ],
      "execution_count": 18,
      "outputs": [
        {
          "output_type": "stream",
          "text": [
            "[[1288 1298  840 1300   78]]\n"
          ],
          "name": "stdout"
        }
      ]
    },
    {
      "cell_type": "code",
      "metadata": {
        "id": "28a9H195O4fB",
        "colab_type": "code",
        "outputId": "e20a52ad-c7d9-48d6-8fd5-77a5c1e0faa0",
        "colab": {
          "base_uri": "https://localhost:8080/",
          "height": 632
        }
      },
      "source": [
        "print(df[['Strain','Type','flavors','medical']].iloc[1288])\n",
        "print(df[['Description']].iloc[1288])\n",
        "print(df[['Strain','Type','flavors','medical']].iloc[1298])\n",
        "print(df[['Description']].iloc[1298])\n",
        "print(df[['Strain','Type','flavors','medical']].iloc[840])\n",
        "print(df[['Description']].iloc[840])\n",
        "print(df[['Strain','Type','flavors','medical']].iloc[1300])\n",
        "print(df[['Description']].iloc[1300])\n",
        "print(df[['Strain','Type','flavors','medical']].iloc[78])\n",
        "print(df[['Description']].iloc[78])"
      ],
      "execution_count": 19,
      "outputs": [
        {
          "output_type": "stream",
          "text": [
            "Strain                                     Sweet Berry\n",
            "Type                                            hybrid\n",
            "flavors        ['Berry', 'Sweet', 'Blueberry', 'Sage']\n",
            "medical    ['Pain', 'Stress', 'Fatigue', 'Spasticity']\n",
            "Name: 1308, dtype: object\n",
            "Description    Sweet Berry is a hybrid cross between two flav...\n",
            "Name: 1308, dtype: object\n",
            "Strain                                       Sweet Lafayette\n",
            "Type                                                  indica\n",
            "flavors             ['Chestnut', 'Citrus', 'Earthy', 'Pine']\n",
            "medical    ['Depression', 'Insomnia', 'Pain', 'Stress', '...\n",
            "Name: 1318, dtype: object\n",
            "Description    Sweet Lafayette is an 80% indica strain with m...\n",
            "Name: 1318, dtype: object\n",
            "Strain                                            Lemonberry\n",
            "Type                                                  hybrid\n",
            "flavors            ['Lemon', 'Blueberry', 'Citrus', 'Sweet']\n",
            "medical    ['Depression', 'Pain', 'Stress', 'Headache', '...\n",
            "Name: 849, dtype: object\n",
            "Description    Dabney Blue and Lemon Thai come together to pr...\n",
            "Name: 849, dtype: object\n",
            "Strain                                         Sweet Pebbles\n",
            "Type                                                  hybrid\n",
            "flavors            ['Sweet', 'Berry', 'Blueberry', 'Citrus']\n",
            "medical    ['Depression', 'Pain', 'Cramps', 'Lack of Appe...\n",
            "Name: 1320, dtype: object\n",
            "Description    Sweet Pebbles, bred by Fire Bros. in Washingto...\n",
            "Name: 1320, dtype: object\n",
            "Strain                                           Banana Peel\n",
            "Type                                                  hybrid\n",
            "flavors    ['Sweet', 'Tree Fruit', 'Pear', 'Spicy/Herbal'...\n",
            "medical    ['Depression', 'Pain', 'Stress', 'Fatigue', 'H...\n",
            "Name: 79, dtype: object\n",
            "Description    Banana Peel is a hybrid cannabis strain bred b...\n",
            "Name: 79, dtype: object\n"
          ],
          "name": "stdout"
        }
      ]
    },
    {
      "cell_type": "markdown",
      "metadata": {
        "id": "ten1zH8kXRYv",
        "colab_type": "text"
      },
      "source": [
        "## Experimenting and comparison \n",
        "Comparing it with KD Tree\n",
        "Everything beyond this point is not reflected on the API.  It is merely used as a comparison within this notebook."
      ]
    },
    {
      "cell_type": "code",
      "metadata": {
        "id": "t18JH4dDXWVh",
        "colab_type": "code",
        "outputId": "40f377c5-6b16-4e30-d2b9-07f72b20ffb3",
        "colab": {
          "base_uri": "https://localhost:8080/",
          "height": 70
        }
      },
      "source": [
        "# Fit on TF-IDF Vectors\n",
        "size = 5\n",
        "nn_kd_tree  = NearestNeighbors(n_neighbors=size, algorithm='kd_tree') # Changed the algorithm to kd_tree here.\n",
        "nn_kd_tree.fit(dtm)"
      ],
      "execution_count": 21,
      "outputs": [
        {
          "output_type": "execute_result",
          "data": {
            "text/plain": [
              "NearestNeighbors(algorithm='kd_tree', leaf_size=30, metric='minkowski',\n",
              "                 metric_params=None, n_jobs=None, n_neighbors=5, p=2,\n",
              "                 radius=1.0)"
            ]
          },
          "metadata": {
            "tags": []
          },
          "execution_count": 21
        }
      ]
    },
    {
      "cell_type": "code",
      "metadata": {
        "id": "-oXiO3qsXnAd",
        "colab_type": "code",
        "colab": {}
      },
      "source": [
        "user_input_kd = [\"\"\"A sweet, citrusy flavor that is euphoric\"\"\"]\n",
        "\n",
        "vec_user_input_kd = tfidf.transform(user_input_kd)\n",
        "dist, strain_index_kd = nn_kd_tree.kneighbors(vec_user_input_kd.todense())"
      ],
      "execution_count": 0,
      "outputs": []
    },
    {
      "cell_type": "code",
      "metadata": {
        "id": "Yp7V9ELYXnw-",
        "colab_type": "code",
        "outputId": "bb174e09-ddcc-4c62-e080-7c65ee81d1ec",
        "colab": {
          "base_uri": "https://localhost:8080/",
          "height": 34
        }
      },
      "source": [
        "print(strain_index_kd)"
      ],
      "execution_count": 23,
      "outputs": [
        {
          "output_type": "stream",
          "text": [
            "[[1288 1298  840 1300   78]]\n"
          ],
          "name": "stdout"
        }
      ]
    },
    {
      "cell_type": "code",
      "metadata": {
        "id": "kfP6Rfaoqogf",
        "colab_type": "code",
        "outputId": "ffa05abd-3ed9-4e54-ae90-a9b254d5acbd",
        "colab": {
          "base_uri": "https://localhost:8080/",
          "height": 632
        }
      },
      "source": [
        "print(df[['Strain','Type','flavors','medical']].iloc[1288])\n",
        "print(df[['Description']].iloc[1288])\n",
        "print(df[['Strain','Type','flavors','medical']].iloc[1298])\n",
        "print(df[['Description']].iloc[1298])\n",
        "print(df[['Strain','Type','flavors','medical']].iloc[840])\n",
        "print(df[['Description']].iloc[840])\n",
        "print(df[['Strain','Type','flavors','medical']].iloc[1300])\n",
        "print(df[['Description']].iloc[1300])\n",
        "print(df[['Strain','Type','flavors','medical']].iloc[78])\n",
        "print(df[['Description']].iloc[78])"
      ],
      "execution_count": 24,
      "outputs": [
        {
          "output_type": "stream",
          "text": [
            "Strain                                     Sweet Berry\n",
            "Type                                            hybrid\n",
            "flavors        ['Berry', 'Sweet', 'Blueberry', 'Sage']\n",
            "medical    ['Pain', 'Stress', 'Fatigue', 'Spasticity']\n",
            "Name: 1308, dtype: object\n",
            "Description    Sweet Berry is a hybrid cross between two flav...\n",
            "Name: 1308, dtype: object\n",
            "Strain                                       Sweet Lafayette\n",
            "Type                                                  indica\n",
            "flavors             ['Chestnut', 'Citrus', 'Earthy', 'Pine']\n",
            "medical    ['Depression', 'Insomnia', 'Pain', 'Stress', '...\n",
            "Name: 1318, dtype: object\n",
            "Description    Sweet Lafayette is an 80% indica strain with m...\n",
            "Name: 1318, dtype: object\n",
            "Strain                                            Lemonberry\n",
            "Type                                                  hybrid\n",
            "flavors            ['Lemon', 'Blueberry', 'Citrus', 'Sweet']\n",
            "medical    ['Depression', 'Pain', 'Stress', 'Headache', '...\n",
            "Name: 849, dtype: object\n",
            "Description    Dabney Blue and Lemon Thai come together to pr...\n",
            "Name: 849, dtype: object\n",
            "Strain                                         Sweet Pebbles\n",
            "Type                                                  hybrid\n",
            "flavors            ['Sweet', 'Berry', 'Blueberry', 'Citrus']\n",
            "medical    ['Depression', 'Pain', 'Cramps', 'Lack of Appe...\n",
            "Name: 1320, dtype: object\n",
            "Description    Sweet Pebbles, bred by Fire Bros. in Washingto...\n",
            "Name: 1320, dtype: object\n",
            "Strain                                           Banana Peel\n",
            "Type                                                  hybrid\n",
            "flavors    ['Sweet', 'Tree Fruit', 'Pear', 'Spicy/Herbal'...\n",
            "medical    ['Depression', 'Pain', 'Stress', 'Fatigue', 'H...\n",
            "Name: 79, dtype: object\n",
            "Description    Banana Peel is a hybrid cannabis strain bred b...\n",
            "Name: 79, dtype: object\n"
          ],
          "name": "stdout"
        }
      ]
    },
    {
      "cell_type": "markdown",
      "metadata": {
        "id": "Ao8E02iuuRQf",
        "colab_type": "text"
      },
      "source": [
        "**Reference Links:** Performance Evaluation: Ball-Tree and KD-Tree in the context of MST, https://arxiv.org/ftp/arxiv/papers/1210/1210.6122.pdf\n",
        "\n",
        "After reading the article, I learned that the biggest differentiator between Ball Tree and KD Tree algorithms was speed. Is it possible that the dataset we used was simply too small to make a difference in the results?  \n",
        "\n",
        "\"*In this paper, authors compared kd-tree and ball-tree based dual tree Boruvka\n",
        "algorithm for finding Euclidean Minimum Spanning Tree (EMST). For finding\n",
        "efficient EMST, authors adopted dual tree algorithm and experimented on a variety of\n",
        "real time and synthetic datasets of various dimensions. From the experimental\n",
        "observation, authors conclude that the kd-tree performs faster than the ball-tree for\n",
        "not only constructing the tree and also for solving the EMST problem. Moreover, the\n",
        "kd-tree based dual tree Boruvka is giving good results than the ball-tree based dualtree Boruvka.* \"\n"
      ]
    }
  ]
}